{
 "cells": [
  {
   "cell_type": "markdown",
   "metadata": {},
   "source": [
    "# Implementing an Auto Encoder"
   ]
  },
  {
   "cell_type": "code",
   "execution_count": 27,
   "metadata": {
    "collapsed": true
   },
   "outputs": [],
   "source": [
    "import tensorflow as tf\n",
    "import numpy as np\n",
    "from sklearn import datasets\n",
    "import matplotlib.pyplot as plt\n",
    "from tensorflow.examples.tutorials.mnist import input_data"
   ]
  },
  {
   "cell_type": "code",
   "execution_count": 129,
   "metadata": {},
   "outputs": [],
   "source": [
    "def initialize_autoencoder_network(N, K):\n",
    "    \n",
    "    X = tf.placeholder('float',(None, N))\n",
    "    \n",
    "    W_init_max = 4 * np.sqrt(6. / (N + K))\n",
    "    W_f = tf.Variable(tf.random_uniform(shape=(N, K), minval=-W_init_max, maxval=W_init_max))\n",
    "    b_f = tf.Variable(tf.zeros([K]))\n",
    "    \n",
    "    hidden_layer = tf.nn.sigmoid(tf.matmul(X, W_f) + b_f)\n",
    "    \n",
    "    W_r = tf.transpose(W_f)\n",
    "    b_r = tf.Variable(tf.zeros(N))\n",
    "    \n",
    "    reconstructed_layer = tf.nn.sigmoid(tf.matmul(hidden_layer, W_r) + b_r)\n",
    "    cost = tf.reduce_sum(tf.pow((X-reconstructed_layer), 2))\n",
    "    train_op = tf.train.AdamOptimizer(1e-3).minimize(cost)\n",
    "    \n",
    "    return [X, [W_f,b_f], hidden_layer, [W_r, b_r], reconstructed_layer, cost, train_op]"
   ]
  },
  {
   "cell_type": "code",
   "execution_count": 64,
   "metadata": {},
   "outputs": [
    {
     "name": "stdout",
     "output_type": "stream",
     "text": [
      "Extracting MNIST_data/train-images-idx3-ubyte.gz\n",
      "Extracting MNIST_data/train-labels-idx1-ubyte.gz\n",
      "Extracting MNIST_data/t10k-images-idx3-ubyte.gz\n",
      "Extracting MNIST_data/t10k-labels-idx1-ubyte.gz\n"
     ]
    }
   ],
   "source": [
    "mnist = input_data.read_data_sets(\"MNIST_data/\", one_hot=True)\n",
    "X = mnist.train.images"
   ]
  },
  {
   "cell_type": "code",
   "execution_count": 231,
   "metadata": {},
   "outputs": [
    {
     "data": {
      "image/png": "[encoded data removed]",
      "text/plain": [
       "<matplotlib.figure.Figure at 0x7fd7f0a22b70>"
      ]
     },
     "metadata": {},
     "output_type": "display_data"
    }
   ],
   "source": [
    "plt.imshow(np.reshape(X[6,:], (28, 28)))\n",
    "plt.show()"
   ]
  },
  {
   "cell_type": "code",
   "execution_count": 232,
   "metadata": {},
   "outputs": [],
   "source": [
    "model = initialize_autoencoder_network(784, 10)"
   ]
  },
  {
   "cell_type": "code",
   "execution_count": 233,
   "metadata": {},
   "outputs": [],
   "source": [
    "def train(X, model, sess, epochs=100, batch_size=128):\n",
    "    ax1 = plt.subplot(211)\n",
    "    ax2 = plt.subplot(212)\n",
    "    sess.run(tf.global_variables_initializer())\n",
    "    plt.ion()\n",
    "    for i in range(epochs):\n",
    "        print('Epoch: ', i)\n",
    "        for start, end in zip(range(0, len(X), 128), range(128, len(X), 128)):\n",
    "            X_batch = X[start:end]\n",
    "            sess.run(model[-1], feed_dict={model[0]: X[start:end]})\n",
    "        index = np.random.choice(range(X.shape[0]))\n",
    "        ax1.cla();ax2.cla()\n",
    "        ax1.imshow(np.reshape(X[index,:], (28, 28)))\n",
    "        ax2.imshow(np.reshape(sess.run(model[-3], feed_dict={model[0]:np.reshape(X[index,:], [-1, 784])}), (28, 28)))"
   ]
  },
  {
   "cell_type": "code",
   "execution_count": 255,
   "metadata": {},
   "outputs": [
    {
     "name": "stdout",
     "output_type": "stream",
     "text": [
      "Epoch:  0\n"
     ]
    },
    {
     "data": {
      "image/png": "[encoded data removed]",
      "text/plain": [
       "<matplotlib.figure.Figure at 0x7fd7f0329198>"
      ]
     },
     "metadata": {},
     "output_type": "display_data"
    },
    {
     "name": "stdout",
     "output_type": "stream",
     "text": [
      "Epoch:  1\n",
      "Epoch:  2\n",
      "Epoch:  3\n",
      "Epoch:  4\n",
      "Epoch:  5\n",
      "Epoch:  6\n",
      "Epoch:  7\n",
      "Epoch:  8\n",
      "Epoch:  9\n"
     ]
    }
   ],
   "source": [
    "sess.close()\n",
    "sess = tf.Session()\n",
    "train(X, model, sess, 10)"
   ]
  },
  {
   "cell_type": "code",
   "execution_count": 256,
   "metadata": {},
   "outputs": [
    {
     "data": {
      "image/png": "[encoded data removed]",
      "text/plain": [
       "<matplotlib.figure.Figure at 0x7fd7f03656d8>"
      ]
     },
     "metadata": {},
     "output_type": "display_data"
    }
   ],
   "source": [
    "ax1 = plt.subplot(211)\n",
    "ax2 = plt.subplot(212)\n",
    "reconstruction = sess.run(model[-3], feed_dict={model[0]:np.reshape(X[7,:], [-1, 784])})\n",
    "ax1.imshow(np.reshape(X[7,:], (28, 28)))\n",
    "ax2.imshow(np.reshape(reconstruction, (28, 28)))\n",
    "plt.show()"
   ]
  },
  {
   "cell_type": "code",
   "execution_count": 257,
   "metadata": {},
   "outputs": [
    {
     "data": {
      "text/plain": [
       "<matplotlib.image.AxesImage at 0x7fd7f0984898>"
      ]
     },
     "execution_count": 257,
     "metadata": {},
     "output_type": "execute_result"
    },
    {
     "data": {
      "image/png": "[encoded data removed]",
      "text/plain": [
       "<matplotlib.figure.Figure at 0x7fd7f057ac18>"
      ]
     },
     "metadata": {},
     "output_type": "display_data"
    }
   ],
   "source": [
    "vec = np.zeros([1,10], dtype=np.float32)\n",
    "vec[0][3] = 1\n",
    "tweak = (tf.matmul(tf.constant(vec), model[3][0])).eval(session=sess)\n",
    "plt.imshow(np.reshape(tweak, (28, 28)))"
   ]
  }
 ],
 "metadata": {
  "kernelspec": {
   "display_name": "Python 3",
   "language": "python",
   "name": "python3"
  },
  "language_info": {
   "codemirror_mode": {
    "name": "ipython",
    "version": 3.0
   },
   "file_extension": ".py",
   "mimetype": "text/x-python",
   "name": "python",
   "nbconvert_exporter": "python",
   "pygments_lexer": "ipython3",
   "version": "3.5.4"
  }
 },
 "nbformat": 4,
 "nbformat_minor": 0
}